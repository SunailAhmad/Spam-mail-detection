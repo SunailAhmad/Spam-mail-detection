{
 "cells": [
  {
   "cell_type": "code",
   "execution_count": null,
   "id": "971f4d0d",
   "metadata": {},
   "outputs": [],
   "source": [
    "import numpy as np \n",
    "import pandas as pd\n",
    "import matplotlib.pyplot as plt\n",
    "from sklearn.model_selection import train_test_split\n",
    "from sklearn.feature_extraction.text import TfidfVectorizer\n",
    "from sklearn.naive_bayes import MultinomialNB\n",
    "from sklearn.tree import DecisionTreeClassifier\n",
    "from sklearn import metrics\n",
    "import time\n"
   ]
  },
  {
   "cell_type": "code",
   "execution_count": null,
   "id": "fcb778b3",
   "metadata": {},
   "outputs": [],
   "source": [
    "# reading the file using pandas library\n",
    "\n",
    "df=pd.read_csv(r\"/home/sunail/Downloads/spam.csv\")"
   ]
  },
  {
   "cell_type": "code",
   "execution_count": null,
   "id": "1c208454",
   "metadata": {},
   "outputs": [],
   "source": [
    "# Exploring the dataset \n",
    "df.head(5)"
   ]
  },
  {
   "cell_type": "code",
   "execution_count": null,
   "id": "737f6a51",
   "metadata": {},
   "outputs": [],
   "source": [
    "df.tail()"
   ]
  },
  {
   "cell_type": "code",
   "execution_count": null,
   "id": "036ab606",
   "metadata": {},
   "outputs": [],
   "source": [
    "# lets check the features \n",
    "df.columns "
   ]
  },
  {
   "cell_type": "code",
   "execution_count": null,
   "id": "b06933fc",
   "metadata": {},
   "outputs": [],
   "source": [
    "df.describe()"
   ]
  },
  {
   "cell_type": "code",
   "execution_count": null,
   "id": "a82bd8a8",
   "metadata": {},
   "outputs": [],
   "source": [
    "# check for the datatypes\n",
    "df.dtypes"
   ]
  },
  {
   "cell_type": "code",
   "execution_count": null,
   "id": "93b217a8",
   "metadata": {},
   "outputs": [],
   "source": [
    "df.info()"
   ]
  },
  {
   "cell_type": "code",
   "execution_count": null,
   "id": "d6015ecf",
   "metadata": {},
   "outputs": [],
   "source": [
    "# checking for null values\n",
    "df.isna().sum()"
   ]
  },
  {
   "cell_type": "code",
   "execution_count": null,
   "id": "931ff3a5",
   "metadata": {},
   "outputs": [],
   "source": [
    "df.size"
   ]
  },
  {
   "cell_type": "code",
   "execution_count": null,
   "id": "ae6ca692",
   "metadata": {},
   "outputs": [],
   "source": [
    "df.head(10)"
   ]
  },
  {
   "cell_type": "code",
   "execution_count": null,
   "id": "33e90b02",
   "metadata": {},
   "outputs": [],
   "source": [
    "# (we have to create a new column to make a difference between spam and not spam in the form of numbers(0,1)\n",
    "\n",
    "df['spam']=df['Category'].apply(lambda x:1 if x=='spam' else 0)"
   ]
  },
  {
   "cell_type": "code",
   "execution_count": null,
   "id": "bb83b478",
   "metadata": {},
   "outputs": [],
   "source": [
    "df"
   ]
  },
  {
   "cell_type": "code",
   "execution_count": null,
   "id": "b1dba432",
   "metadata": {},
   "outputs": [],
   "source": [
    "df.groupby('Category').count()"
   ]
  },
  {
   "cell_type": "code",
   "execution_count": null,
   "id": "7b6a39ae",
   "metadata": {},
   "outputs": [],
   "source": [
    "X_train,X_test,y_train,y_test=train_test_split(df.Message,df.spam,test_size=0.25)"
   ]
  },
  {
   "cell_type": "code",
   "execution_count": null,
   "id": "e693e39d",
   "metadata": {},
   "outputs": [],
   "source": [
    "# lets check the size of  our data  \n",
    "\n",
    "X_train.size"
   ]
  },
  {
   "cell_type": "code",
   "execution_count": null,
   "id": "6e4604ab",
   "metadata": {},
   "outputs": [],
   "source": [
    "X_test.size"
   ]
  },
  {
   "cell_type": "code",
   "execution_count": null,
   "id": "60af7cca",
   "metadata": {},
   "outputs": [],
   "source": [
    "y_train.size"
   ]
  },
  {
   "cell_type": "code",
   "execution_count": null,
   "id": "d3831ac6",
   "metadata": {},
   "outputs": [],
   "source": [
    "y_test.size"
   ]
  },
  {
   "cell_type": "markdown",
   "id": "86bf887f",
   "metadata": {},
   "source": [
    "# we convert the textual data into a numerical form that machine learning models can understand."
   ]
  },
  {
   "cell_type": "code",
   "execution_count": null,
   "id": "56223241",
   "metadata": {},
   "outputs": [],
   "source": [
    "vectorizer=TfidfVectorizer()\n",
    "X_train_vectorized = vectorizer.fit_transform(X_train)\n",
    "X_test_vectorized= vectorizer.transform(X_test)"
   ]
  },
  {
   "cell_type": "code",
   "execution_count": null,
   "id": "161f40fa",
   "metadata": {},
   "outputs": [],
   "source": [
    "# naive bayes"
   ]
  },
  {
   "cell_type": "code",
   "execution_count": null,
   "id": "89d51c7e",
   "metadata": {},
   "outputs": [],
   "source": [
    "nb_model = MultinomialNB()\n",
    "start_time = time.time()\n",
    "nb_model.fit(X_train_vectorized, y_train)\n",
    "nb_time = time.time() - start_time\n",
    "nb_predictions = nb_model.predict(X_test_vectorized)"
   ]
  },
  {
   "cell_type": "code",
   "execution_count": null,
   "id": "47540732",
   "metadata": {},
   "outputs": [],
   "source": [
    "# Decision Tree (J48 equivalent)\n",
    "dt_model = DecisionTreeClassifier()\n",
    "start_time = time.time()\n",
    "dt_model.fit(X_train_vectorized, y_train)\n",
    "dt_time = time.time() - start_time\n",
    "dt_predictions = dt_model.predict(X_test_vectorized)\n"
   ]
  },
  {
   "cell_type": "markdown",
   "id": "2a2ce423",
   "metadata": {},
   "source": [
    "# Evaluate Performance of the models"
   ]
  },
  {
   "cell_type": "code",
   "execution_count": null,
   "id": "cf6368aa",
   "metadata": {},
   "outputs": [],
   "source": [
    "def evaluate_model(predictions, model_name):\n",
    "   accuracy = metrics.accuracy_score(y_test, predictions)\n",
    "   error_rate = 1 - accuracy\n",
    "   print(f\"{model_name} Accuracy: {accuracy:.4f}\")\n",
    "   print(f\"{model_name} Error Rate: {error_rate:.4f}\")\n",
    "\n",
    "# Evaluate Naive Bayes\n",
    "evaluate_model(nb_predictions, \"Naive Bayes\")\n",
    "print(f\"Naive Bayes Processing Time: {nb_time:.4f} seconds\\n\")\n",
    "\n",
    "# Evaluate Decision Tree\n",
    "evaluate_model(dt_predictions, \"Decision Tree (J48)\")\n",
    "print(f\"Decision Tree Processing Time: {dt_time:.4f} seconds\")\n"
   ]
  },
  {
   "cell_type": "code",
   "execution_count": null,
   "id": "9780e831",
   "metadata": {},
   "outputs": [],
   "source": []
  },
  {
   "cell_type": "code",
   "execution_count": null,
   "id": "94b61846",
   "metadata": {},
   "outputs": [],
   "source": [
    "\n"
   ]
  }
 ],
 "metadata": {
  "kernelspec": {
   "display_name": "Python 3 (ipykernel)",
   "language": "python",
   "name": "python3"
  },
  "language_info": {
   "codemirror_mode": {
    "name": "ipython",
    "version": 3
   },
   "file_extension": ".py",
   "mimetype": "text/x-python",
   "name": "python",
   "nbconvert_exporter": "python",
   "pygments_lexer": "ipython3",
   "version": "3.10.12"
  }
 },
 "nbformat": 4,
 "nbformat_minor": 5
}
